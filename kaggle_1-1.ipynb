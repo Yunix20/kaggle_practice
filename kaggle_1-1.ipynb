{
  "nbformat": 4,
  "nbformat_minor": 0,
  "metadata": {
    "colab": {
      "name": "Colaboratory에 오신 것을 환영합니다",
      "provenance": [],
      "collapsed_sections": []
    },
    "kernelspec": {
      "display_name": "Python 3",
      "name": "python3"
    }
  },
  "cells": [
    {
      "cell_type": "markdown",
      "metadata": {
        "colab_type": "text",
        "id": "5fCEDCU_qrC0"
      },
      "source": [
        "<p><img alt=\"Colaboratory logo\" height=\"45px\" src=\"/img/colab_favicon.ico\" align=\"left\" hspace=\"10px\" vspace=\"0px\"></p>\n",
        "\n",
        "<h1>Colaboratory란?</h1>\n",
        "\n",
        "Colaboratory&#40;또는 줄여서 'Colab'&#41;를 사용하면 브라우저에서 Python을 작성하고 실행할 수 있습니다. \n",
        "- 구성 필요 없음\n",
        "- GPU 무료 액세스\n",
        "- 간편한 공유\n",
        "\n",
        "<strong>학생</strong>이든, <strong>데이터 과학자</strong>든, <strong>AI 연구원</strong>이든 Colab으로 업무를 더욱 간편하게 처리할 수 있습니다. <a href=\"https://www.youtube.com/watch?v=inN8seMm7UI\">Colab 소개 영상</a>에서 자세한 내용을 확인하거나 아래에서 시작해 보세요."
      ]
    },
    {
      "cell_type": "markdown",
      "metadata": {
        "colab_type": "text",
        "id": "GJBs_flRovLc"
      },
      "source": [
        "## <strong>시작하기</strong>\n",
        "\n",
        "지금 읽고 계신 문서는 정적 웹페이지가 아니라 코드를 작성하고 실행할 수 있는 대화형 환경인 <strong>Colab 메모장</strong>입니다.\n",
        "\n",
        "예를 들어 다음은 값을 계산하여 변수로 저장하고 결과를 출력하는 간단한 Python 스크립트가 포함된 <strong>코드 셀</strong>입니다."
      ]
    },
    {
      "cell_type": "code",
      "metadata": {
        "colab_type": "code",
        "id": "gJr_9dXGpJ05",
        "colab": {
          "base_uri": "https://localhost:8080/",
          "height": 34
        },
        "outputId": "9f556d03-ec67-4950-a485-cfdba9ddd14d"
      },
      "source": [
        "seconds_in_a_day = 24 * 60 * 60\n",
        "seconds_in_a_day"
      ],
      "execution_count": null,
      "outputs": [
        {
          "output_type": "execute_result",
          "data": {
            "text/plain": [
              "86400"
            ]
          },
          "metadata": {
            "tags": []
          },
          "execution_count": 0
        }
      ]
    },
    {
      "cell_type": "markdown",
      "metadata": {
        "colab_type": "text",
        "id": "2fhs6GZ4qFMx"
      },
      "source": [
        "위 셀의 코드를 실행하려면 셀을 클릭하여 선택한 후 코드 왼쪽의 실행 버튼을 누르거나 단축키 'Command/Ctrl+Enter'를 사용하세요. 셀을 클릭하면 코드 수정을 바로 시작할 수 있습니다.\n",
        "\n",
        "특정 셀에서 정의한 변수를 나중에 다른 셀에서 사용할 수 있습니다."
      ]
    },
    {
      "cell_type": "code",
      "metadata": {
        "colab_type": "code",
        "id": "-gE-Ez1qtyIA",
        "colab": {
          "base_uri": "https://localhost:8080/",
          "height": 34
        },
        "outputId": "94cb2224-0edf-457b-90b5-0ac3488d8a97"
      },
      "source": [
        "seconds_in_a_week = 7 * seconds_in_a_day\n",
        "seconds_in_a_week"
      ],
      "execution_count": null,
      "outputs": [
        {
          "output_type": "execute_result",
          "data": {
            "text/plain": [
              "604800"
            ]
          },
          "metadata": {
            "tags": []
          },
          "execution_count": 0
        }
      ]
    },
    {
      "cell_type": "markdown",
      "metadata": {
        "colab_type": "text",
        "id": "lSrWNr3MuFUS"
      },
      "source": [
        "Colab 메모장을 사용하면 <strong>실행 코드</strong>와 <strong>서식 있는 텍스트</strong>를 <strong>이미지</strong>, <strong>HTML</strong>, <strong>LaTeX</strong> 등과 함께 하나의 문서로 통합할 수 있습니다. Colab 메모장을 만들면 Google 드라이브 계정에 저장됩니다. Colab 메모장을 간편하게 공유하여 동료나 친구들이 댓글을 달거나 수정하도록 할 수 있습니다. 자세히 알아보려면 <a href=\"/notebooks/basic_features_overview.ipynb\">Colab 개요</a>를 참조하세요. 새 Colab 메모장을 만들려면 위의 파일 메뉴를 사용하거나 다음 링크로 이동하세요. <a href=\"http://colab.research.google.com#create=true\">새 Colab 메모장 만들기</a>\n",
        "\n",
        "Colab 메모장은 Colab에서 호스팅하는 Jupyter 메모장입니다. Jupyter 프로젝트에 관해 자세히 알아보려면 <a href=\"https://www.jupyter.org\">jupyter.org</a>를 참조하세요."
      ]
    },
    {
      "cell_type": "markdown",
      "metadata": {
        "colab_type": "text",
        "id": "UdRyKR44dcNI"
      },
      "source": [
        "## 데이터 과학\n",
        "\n",
        "Colab을 통해 인기 있는 Python 라이브러리를 최대한 활용하여 데이터를 분석하고 시각화할 수 있습니다. 아래 코드 셀에서는 <strong>numpy</strong>를 사용하여 임의의 데이터를 생성하고 <strong>matplotlib</strong>으로 이를 시각화합니다. 셀을 클릭하면 코드 수정을 바로 시작할 수 있습니다."
      ]
    },
    {
      "cell_type": "code",
      "metadata": {
        "id": "F6uMJMWaSrGm",
        "colab_type": "code",
        "colab": {
          "base_uri": "https://localhost:8080/",
          "height": 369
        },
        "outputId": "5e07c130-3daf-4c48-9fa9-ddf87b640870"
      },
      "source": [
        "!sudo apt-get install -y fonts-nanum\n",
        "!sudo fc-cache -fv\n",
        "!rm ~/.cache/matplotlib -rf"
      ],
      "execution_count": 3,
      "outputs": [
        {
          "output_type": "stream",
          "text": [
            "Reading package lists... Done\n",
            "Building dependency tree       \n",
            "Reading state information... Done\n",
            "fonts-nanum is already the newest version (20170925-1).\n",
            "The following package was automatically installed and is no longer required:\n",
            "  libnvidia-common-440\n",
            "Use 'sudo apt autoremove' to remove it.\n",
            "0 upgraded, 0 newly installed, 0 to remove and 35 not upgraded.\n",
            "/usr/share/fonts: caching, new cache contents: 0 fonts, 1 dirs\n",
            "/usr/share/fonts/truetype: caching, new cache contents: 0 fonts, 3 dirs\n",
            "/usr/share/fonts/truetype/humor-sans: caching, new cache contents: 1 fonts, 0 dirs\n",
            "/usr/share/fonts/truetype/liberation: caching, new cache contents: 16 fonts, 0 dirs\n",
            "/usr/share/fonts/truetype/nanum: caching, new cache contents: 10 fonts, 0 dirs\n",
            "/usr/local/share/fonts: caching, new cache contents: 0 fonts, 0 dirs\n",
            "/root/.local/share/fonts: skipping, no such directory\n",
            "/root/.fonts: skipping, no such directory\n",
            "/var/cache/fontconfig: cleaning cache directory\n",
            "/root/.cache/fontconfig: not cleaning non-existent cache directory\n",
            "/root/.fontconfig: not cleaning non-existent cache directory\n",
            "fc-cache: succeeded\n"
          ],
          "name": "stdout"
        }
      ]
    },
    {
      "cell_type": "code",
      "metadata": {
        "id": "90WWnBEfTCvK",
        "colab_type": "code",
        "colab": {}
      },
      "source": [
        "import matplotlib.pyplot as plt\n",
        "\n",
        "plt.rc('font', family='NanumBarunGothic') "
      ],
      "execution_count": 4,
      "outputs": []
    },
    {
      "cell_type": "code",
      "metadata": {
        "id": "0Q_IhF9WTPLx",
        "colab_type": "code",
        "colab": {}
      },
      "source": [
        "#그래프를 노트북 안에 그리기 위해 설정\n",
        "%matplotlib inline\n",
        "\n",
        "#필요한 패키지와 라이브러리를 가져옴\n",
        "import matplotlib as mpl\n",
        "import matplotlib.pyplot as plt\n",
        "import matplotlib.font_manager as fm\n",
        "\n",
        "#그래프에서 마이너스 폰트 깨지는 문제에 대한 대처\n",
        "mpl.rcParams['axes.unicode_minus'] = False"
      ],
      "execution_count": 5,
      "outputs": []
    },
    {
      "cell_type": "code",
      "metadata": {
        "id": "eq0RlvVVUBvA",
        "colab_type": "code",
        "colab": {
          "base_uri": "https://localhost:8080/",
          "height": 87
        },
        "outputId": "24a32832-6bc5-4df0-8403-6ffbf8343ffd"
      },
      "source": [
        "#그래프를 그리기 위한 임의의 데이터 생성\n",
        "import numpy as np\n",
        "\n",
        "data = np.random.randint(-100, 100, 50).cumsum()\n",
        "data"
      ],
      "execution_count": 6,
      "outputs": [
        {
          "output_type": "execute_result",
          "data": {
            "text/plain": [
              "array([ 52, -38, -25,   5,  37,  29,  62,  97, 111, 114,  46, 100, 183,\n",
              "        85,  41, 118,  61, 104, 114, 146, 153, 173, 158, 183, 282, 361,\n",
              "       395, 460, 410, 365, 338, 360, 399, 335, 385, 316, 223, 145, 179,\n",
              "       161, 221, 235, 302, 205, 151,  61,  48,  97,  66,  21])"
            ]
          },
          "metadata": {
            "tags": []
          },
          "execution_count": 6
        }
      ]
    },
    {
      "cell_type": "code",
      "metadata": {
        "id": "K8syrZLxUY4H",
        "colab_type": "code",
        "colab": {
          "base_uri": "https://localhost:8080/",
          "height": 312
        },
        "outputId": "889b5bd2-f7c2-4b19-d80b-c84082c5f984"
      },
      "source": [
        "plt.plot(range(50), data, 'r')\n",
        "mpl.rcParams['axes.unicode_minus'] = False\n",
        "plt.title('시간별 가격 추이')\n",
        "plt.ylabel('주식 가격')\n",
        "plt.xlabel('시간(분)')"
      ],
      "execution_count": 8,
      "outputs": [
        {
          "output_type": "execute_result",
          "data": {
            "text/plain": [
              "Text(0.5, 0, '시간(분)')"
            ]
          },
          "metadata": {
            "tags": []
          },
          "execution_count": 8
        },
        {
          "output_type": "display_data",
          "data": {
            "image/png": "[encoded data removed]",
            "text/plain": [
              "<Figure size 432x288 with 1 Axes>"
            ]
          },
          "metadata": {
            "tags": [],
            "needs_background": "light"
          }
        }
      ]
    },
    {
      "cell_type": "code",
      "metadata": {
        "id": "v2Jw0TkEUv1i",
        "colab_type": "code",
        "colab": {
          "base_uri": "https://localhost:8080/",
          "height": 87
        },
        "outputId": "c65e9c90-5b5c-493f-86e7-b5fa3dd06bc2"
      },
      "source": [
        "#matplotlib의 버전과 위치정보를 가져옴\n",
        "print('버전: ', mpl.__version__)\n",
        "print('설치 위치: ', mpl.__file__)\n",
        "print('설정 위치: ', mpl.get_configdir())\n",
        "print('캐시 위치: ', mpl.get_cachedir())"
      ],
      "execution_count": 9,
      "outputs": [
        {
          "output_type": "stream",
          "text": [
            "버전:  3.2.2\n",
            "설치 위치:  /usr/local/lib/python3.6/dist-packages/matplotlib/__init__.py\n",
            "설정 위치:  /root/.config/matplotlib\n",
            "캐시 위치:  /root/.cache/matplotlib\n"
          ],
          "name": "stdout"
        }
      ]
    },
    {
      "cell_type": "code",
      "metadata": {
        "id": "bxuI9gH3WJzQ",
        "colab_type": "code",
        "colab": {
          "base_uri": "https://localhost:8080/",
          "height": 34
        },
        "outputId": "a1e2e2e7-e9fe-4cf9-e687-c4b32e414410"
      },
      "source": [
        "#터미널을 이용해 알아낸 위치정보로 이동\n",
        "print('설정파일 위치: ', mpl.matplotlib_fname())"
      ],
      "execution_count": 10,
      "outputs": [
        {
          "output_type": "stream",
          "text": [
            "설정파일 위치:  /usr/local/lib/python3.6/dist-packages/matplotlib/mpl-data/matplotlibrc\n"
          ],
          "name": "stdout"
        }
      ]
    },
    {
      "cell_type": "code",
      "metadata": {
        "id": "YroyX24_WaaF",
        "colab_type": "code",
        "colab": {
          "base_uri": "https://localhost:8080/",
          "height": 34
        },
        "outputId": "6536b705-df17-49d8-b2b8-febb9f5d3d1c"
      },
      "source": [
        "font_list = fm.findSystemFonts(fontpaths=None, fontext='ttf')\n",
        "\n",
        "#ttf 폰트 전체갯수\n",
        "print(len(font_list))"
      ],
      "execution_count": 11,
      "outputs": [
        {
          "output_type": "stream",
          "text": [
            "27\n"
          ],
          "name": "stdout"
        }
      ]
    },
    {
      "cell_type": "code",
      "metadata": {
        "id": "0mUxXeifW3nZ",
        "colab_type": "code",
        "colab": {
          "base_uri": "https://localhost:8080/",
          "height": 107
        },
        "outputId": "a9d19939-aa39-49da-9206-c6594a43f689"
      },
      "source": [
        "#OSX외 설치 된 폰트를 가져오는 함수\n",
        "font_list_mac = fm.OSXInstalledFonts()\n",
        "print(len(font_list_mac))"
      ],
      "execution_count": 12,
      "outputs": [
        {
          "output_type": "stream",
          "text": [
            "0\n"
          ],
          "name": "stdout"
        },
        {
          "output_type": "stream",
          "text": [
            "/usr/local/lib/python3.6/dist-packages/ipykernel_launcher.py:2: MatplotlibDeprecationWarning: \n",
            "The OSXInstalledFonts function was deprecated in Matplotlib 3.1 and will be removed in 3.3.\n",
            "  \n"
          ],
          "name": "stderr"
        }
      ]
    },
    {
      "cell_type": "code",
      "metadata": {
        "id": "DTkjiz3IXDDJ",
        "colab_type": "code",
        "colab": {
          "base_uri": "https://localhost:8080/",
          "height": 193
        },
        "outputId": "e4723656-1b74-4be6-91e8-c8d3f8a46c28"
      },
      "source": [
        "#시스템 폰트에서 읽어온 리스트에서 상위 10개만 출력\n",
        "font_list[:10]"
      ],
      "execution_count": 13,
      "outputs": [
        {
          "output_type": "execute_result",
          "data": {
            "text/plain": [
              "['/usr/share/fonts/truetype/liberation/LiberationMono-Regular.ttf',\n",
              " '/usr/share/fonts/truetype/nanum/NanumSquareRoundB.ttf',\n",
              " '/usr/share/fonts/truetype/liberation/LiberationMono-Bold.ttf',\n",
              " '/usr/share/fonts/truetype/liberation/LiberationSansNarrow-Regular.ttf',\n",
              " '/usr/share/fonts/truetype/liberation/LiberationSans-Bold.ttf',\n",
              " '/usr/share/fonts/truetype/liberation/LiberationSerif-Regular.ttf',\n",
              " '/usr/share/fonts/truetype/nanum/NanumBarunGothicBold.ttf',\n",
              " '/usr/share/fonts/truetype/liberation/LiberationSans-BoldItalic.ttf',\n",
              " '/usr/share/fonts/truetype/nanum/NanumGothic.ttf',\n",
              " '/usr/share/fonts/truetype/nanum/NanumSquareR.ttf']"
            ]
          },
          "metadata": {
            "tags": []
          },
          "execution_count": 13
        }
      ]
    },
    {
      "cell_type": "code",
      "metadata": {
        "id": "wY6erwN8XvVL",
        "colab_type": "code",
        "colab": {
          "base_uri": "https://localhost:8080/",
          "height": 210
        },
        "outputId": "22119274-8782-4022-a88d-4e83c46f22d7"
      },
      "source": [
        "f=[f.name for f in fm.fontManager.ttflist]\n",
        "print(len(font_list))\n",
        "#10개의 폰트명만 출력\n",
        "f[:10]"
      ],
      "execution_count": 14,
      "outputs": [
        {
          "output_type": "stream",
          "text": [
            "27\n"
          ],
          "name": "stdout"
        },
        {
          "output_type": "execute_result",
          "data": {
            "text/plain": [
              "['STIXSizeTwoSym',\n",
              " 'STIXNonUnicode',\n",
              " 'STIXNonUnicode',\n",
              " 'DejaVu Serif',\n",
              " 'STIXNonUnicode',\n",
              " 'DejaVu Serif',\n",
              " 'DejaVu Sans',\n",
              " 'DejaVu Sans Mono',\n",
              " 'DejaVu Serif',\n",
              " 'cmb10']"
            ]
          },
          "metadata": {
            "tags": []
          },
          "execution_count": 14
        }
      ]
    },
    {
      "cell_type": "code",
      "metadata": {
        "id": "N-6j8KjqX6Zq",
        "colab_type": "code",
        "colab": {
          "base_uri": "https://localhost:8080/",
          "height": 1000
        },
        "outputId": "50a0c24b-b363-4a2a-b7b3-0e31c4e1d24a"
      },
      "source": [
        "[f.name for f in fm.fontManager.ttflist if '' in f.name]"
      ],
      "execution_count": 15,
      "outputs": [
        {
          "output_type": "execute_result",
          "data": {
            "text/plain": [
              "['STIXSizeTwoSym',\n",
              " 'STIXNonUnicode',\n",
              " 'STIXNonUnicode',\n",
              " 'DejaVu Serif',\n",
              " 'STIXNonUnicode',\n",
              " 'DejaVu Serif',\n",
              " 'DejaVu Sans',\n",
              " 'DejaVu Sans Mono',\n",
              " 'DejaVu Serif',\n",
              " 'cmb10',\n",
              " 'cmex10',\n",
              " 'STIXGeneral',\n",
              " 'STIXSizeThreeSym',\n",
              " 'STIXGeneral',\n",
              " 'DejaVu Serif Display',\n",
              " 'STIXSizeFourSym',\n",
              " 'STIXSizeOneSym',\n",
              " 'DejaVu Sans',\n",
              " 'DejaVu Sans Mono',\n",
              " 'cmr10',\n",
              " 'STIXNonUnicode',\n",
              " 'DejaVu Serif',\n",
              " 'DejaVu Sans Display',\n",
              " 'cmss10',\n",
              " 'STIXSizeOneSym',\n",
              " 'STIXSizeFourSym',\n",
              " 'STIXGeneral',\n",
              " 'cmsy10',\n",
              " 'DejaVu Sans Mono',\n",
              " 'DejaVu Sans Mono',\n",
              " 'cmtt10',\n",
              " 'STIXGeneral',\n",
              " 'cmmi10',\n",
              " 'STIXSizeTwoSym',\n",
              " 'DejaVu Sans',\n",
              " 'STIXSizeThreeSym',\n",
              " 'STIXSizeFiveSym',\n",
              " 'DejaVu Sans',\n",
              " 'Liberation Mono',\n",
              " 'NanumSquareRound',\n",
              " 'Liberation Mono',\n",
              " 'Liberation Sans Narrow',\n",
              " 'Liberation Sans',\n",
              " 'Liberation Serif',\n",
              " 'NanumBarunGothic',\n",
              " 'Liberation Sans',\n",
              " 'NanumGothic',\n",
              " 'NanumSquare',\n",
              " 'Liberation Serif',\n",
              " 'Liberation Sans',\n",
              " 'NanumMyeongjo',\n",
              " 'NanumSquare',\n",
              " 'Liberation Sans Narrow',\n",
              " 'NanumSquareRound',\n",
              " 'Liberation Serif',\n",
              " 'Liberation Sans',\n",
              " 'NanumBarunGothic',\n",
              " 'Liberation Mono',\n",
              " 'Liberation Mono',\n",
              " 'Humor Sans',\n",
              " 'NanumGothic',\n",
              " 'Liberation Sans Narrow',\n",
              " 'Liberation Sans Narrow',\n",
              " 'NanumMyeongjo',\n",
              " 'Liberation Serif']"
            ]
          },
          "metadata": {
            "tags": []
          },
          "execution_count": 15
        }
      ]
    },
    {
      "cell_type": "code",
      "metadata": {
        "id": "fj1vHuKNYFat",
        "colab_type": "code",
        "colab": {
          "base_uri": "https://localhost:8080/",
          "height": 210
        },
        "outputId": "6163fcf8-0de4-4ac4-bbea-7df439b125ab"
      },
      "source": [
        "#위의 방법으로 이름에 'nanum'이 들어간 폰트만 가져옴\n",
        "[(f.name, f.fname) for f in fm.fontManager.ttflist if 'Nanum' in f.name]"
      ],
      "execution_count": 16,
      "outputs": [
        {
          "output_type": "execute_result",
          "data": {
            "text/plain": [
              "[('NanumSquareRound', '/usr/share/fonts/truetype/nanum/NanumSquareRoundB.ttf'),\n",
              " ('NanumBarunGothic',\n",
              "  '/usr/share/fonts/truetype/nanum/NanumBarunGothicBold.ttf'),\n",
              " ('NanumGothic', '/usr/share/fonts/truetype/nanum/NanumGothic.ttf'),\n",
              " ('NanumSquare', '/usr/share/fonts/truetype/nanum/NanumSquareR.ttf'),\n",
              " ('NanumMyeongjo', '/usr/share/fonts/truetype/nanum/NanumMyeongjoBold.ttf'),\n",
              " ('NanumSquare', '/usr/share/fonts/truetype/nanum/NanumSquareB.ttf'),\n",
              " ('NanumSquareRound', '/usr/share/fonts/truetype/nanum/NanumSquareRoundR.ttf'),\n",
              " ('NanumBarunGothic', '/usr/share/fonts/truetype/nanum/NanumBarunGothic.ttf'),\n",
              " ('NanumGothic', '/usr/share/fonts/truetype/nanum/NanumGothicBold.ttf'),\n",
              " ('NanumMyeongjo', '/usr/share/fonts/truetype/nanum/NanumMyeongjo.ttf')]"
            ]
          },
          "metadata": {
            "tags": []
          },
          "execution_count": 16
        }
      ]
    },
    {
      "cell_type": "code",
      "metadata": {
        "id": "HAxGbFqmYSPE",
        "colab_type": "code",
        "colab": {}
      },
      "source": [
        "##폰트를 사용하는 방법 3가지\n",
        "#FontProperties를 사용 - 그래프의 폰트가 필요한 항목마다 지정해 주어야함.\n",
        "#matplotlib.rcParams[]으로 전역글꼴 설정 방법 - 그래프에 설정을 해주면 폰트가 필요한 항목에 적용 됨.\n",
        "#2번의 방법을 mpl.matplotlib.fname()로 읽어지는 설정 파일에 직접 적어준느 방법,\n",
        "#단 모든 노트북에 적용되어 노트북을 열 때마다 지정해 주지 않아도 돼서 편리"
      ],
      "execution_count": 18,
      "outputs": []
    },
    {
      "cell_type": "code",
      "metadata": {
        "id": "Oh51i7gPYblr",
        "colab_type": "code",
        "colab": {
          "base_uri": "https://localhost:8080/",
          "height": 307
        },
        "outputId": "a2a5e86e-d0ed-4a31-a2f3-14328eb32c9a"
      },
      "source": [
        "#fname 옵션을 사용하는 방법\n",
        "path = '/usr/share/fonts/truetype/nanum/NanumSquareRoundB.ttf'\n",
        "fontprop = fm.FontProperties(fname=path, size=18)\n",
        "\n",
        "plt.plot(range(50), data, 'r')\n",
        "plt.title('시간별 가격 추이', FontProperties=fontprop)\n",
        "plt.ylabel('주식 가격', FontProperties=fontprop)\n",
        "plt.xlabel('시간(분)', FontProperties=fontprop)\n",
        "plt.show()"
      ],
      "execution_count": 21,
      "outputs": [
        {
          "output_type": "display_data",
          "data": {
            "image/png": "[encoded data removed]",
            "text/plain": [
              "<Figure size 432x288 with 1 Axes>"
            ]
          },
          "metadata": {
            "tags": [],
            "needs_background": "light"
          }
        }
      ]
    },
    {
      "cell_type": "code",
      "metadata": {
        "id": "YWTUl6plZsoZ",
        "colab_type": "code",
        "colab": {
          "base_uri": "https://localhost:8080/",
          "height": 87
        },
        "outputId": "cb99bb90-400c-47d1-8557-2e0c1cc2cbdd"
      },
      "source": [
        "#matplotlib.rcParams[]로 전역글꼴 설정방법\n",
        "#기본 설정 읽기\n",
        "import matplotlib.pyplot as plt\n",
        "\n",
        "#size, family\n",
        "print('#설정 되어있는 폰트 사이즈')\n",
        "print(plt.rcParams['font.size'])\n",
        "print('#설정 되어있는 폰트 글꼴')\n",
        "print(plt.rcParams['font.family'])"
      ],
      "execution_count": 22,
      "outputs": [
        {
          "output_type": "stream",
          "text": [
            "#설정 되어있는 폰트 사이즈\n",
            "10.0\n",
            "#설정 되어있는 폰트 글꼴\n",
            "['NanumBarunGothic']\n"
          ],
          "name": "stdout"
        }
      ]
    },
    {
      "cell_type": "code",
      "metadata": {
        "id": "nPxxFvywcUTw",
        "colab_type": "code",
        "colab": {
          "base_uri": "https://localhost:8080/",
          "height": 142
        },
        "outputId": "720ea125-9c91-4506-8746-588823452f46"
      },
      "source": [
        "#serif, sans-serif, monospace\n",
        "print('serif 세리프가 있는 폰트----------')\n",
        "print(plt.rcParams['font.serif'])\n",
        "print('sans-serif 세리프가 없는 폰트----------')\n",
        "print(plt.rcParams['font.sans-serif'])\n",
        "print('mpnospace 고정폭 글꼴----------')\n",
        "print(plt.rcParams['font.monospace'])"
      ],
      "execution_count": 23,
      "outputs": [
        {
          "output_type": "stream",
          "text": [
            "serif 세리프가 있는 폰트----------\n",
            "['DejaVu Serif', 'Bitstream Vera Serif', 'Computer Modern Roman', 'New Century Schoolbook', 'Century Schoolbook L', 'Utopia', 'ITC Bookman', 'Bookman', 'Nimbus Roman No9 L', 'Times New Roman', 'Times', 'Palatino', 'Charter', 'serif']\n",
            "sans-serif 세리프가 없는 폰트----------\n",
            "['DejaVu Sans', 'Bitstream Vera Sans', 'Computer Modern Sans Serif', 'Lucida Grande', 'Verdana', 'Geneva', 'Lucid', 'Arial', 'Helvetica', 'Avant Garde', 'sans-serif']\n",
            "mpnospace 고정폭 글꼴----------\n",
            "['DejaVu Sans Mono', 'Bitstream Vera Sans Mono', 'Computer Modern Typewriter', 'Andale Mono', 'Nimbus Mono L', 'Courier New', 'Courier', 'Fixed', 'Terminal', 'monospace']\n"
          ],
          "name": "stdout"
        }
      ]
    },
    {
      "cell_type": "code",
      "metadata": {
        "id": "EX2krZbKcwry",
        "colab_type": "code",
        "colab": {}
      },
      "source": [
        "plt.rcParams[\"font.family\"] = 'Nanum Brush Script OTF'\n",
        "plt.rcParams[\"font.size\"] = 20\n",
        "plt.rcParams[\"figure.figsize\"] = (14,4)"
      ],
      "execution_count": 28,
      "outputs": []
    },
    {
      "cell_type": "code",
      "metadata": {
        "id": "peypTSNmdHcP",
        "colab_type": "code",
        "colab": {
          "base_uri": "https://localhost:8080/",
          "height": 241
        },
        "outputId": "d737104a-a51e-4893-965b-29d091660630"
      },
      "source": [
        "plt.plot(range(50), data, 'r')\n",
        "plt.title('시간별 가격 추이', FontProperties=fontprop)\n",
        "plt.ylabel('주식 가격', FontProperties=fontprop)\n",
        "plt.xlabel('시간(분)', FontProperties=fontprop)\n",
        "plt.style.use('seaborn-pastel')\n",
        "plt.show()"
      ],
      "execution_count": 30,
      "outputs": [
        {
          "output_type": "display_data",
          "data": {
            "image/png": "[encoded data removed]",
            "text/plain": [
              "<Figure size 1008x288 with 1 Axes>"
            ]
          },
          "metadata": {
            "tags": [],
            "needs_background": "light"
          }
        }
      ]
    },
    {
      "cell_type": "code",
      "metadata": {
        "id": "0Fe4BB6Rejh0",
        "colab_type": "code",
        "colab": {
          "base_uri": "https://localhost:8080/",
          "height": 268
        },
        "outputId": "eb735b3d-12c8-4a05-8b32-5501cce8bf25"
      },
      "source": [
        "#rcParams 대신 FontProperties와 plt.rc를 사용하는 방법\n",
        "path = '/usr/share/fonts/truetype/nanum/NanumBarunGothicBold.ttf'\n",
        "font_name = fm.FontProperties(fname=path, size=50).get_name()\n",
        "print(font_name)\n",
        "plt.rc('font', family=font_name)\n",
        "\n",
        "fig, ax = plt.subplots()\n",
        "ax.plot(data)\n",
        "ax.set_title('시간별 가격 추이')\n",
        "plt.ylabel('주식 가격')\n",
        "plt.xlabel('시간(분)')\n",
        "plt.style.use('ggplot')\n",
        "plt.show()"
      ],
      "execution_count": 31,
      "outputs": [
        {
          "output_type": "stream",
          "text": [
            "NanumBarunGothic\n"
          ],
          "name": "stdout"
        },
        {
          "output_type": "display_data",
          "data": {
            "image/png": "[encoded data removed]",
            "text/plain": [
              "<Figure size 1008x288 with 1 Axes>"
            ]
          },
          "metadata": {
            "tags": [],
            "needs_background": "light"
          }
        }
      ]
    },
    {
      "cell_type": "code",
      "metadata": {
        "id": "B9TwbOLSfchZ",
        "colab_type": "code",
        "colab": {
          "base_uri": "https://localhost:8080/",
          "height": 34
        },
        "outputId": "218d03cb-ce28-45e1-facb-ebad45f3d058"
      },
      "source": [
        "#재시작할 때 폰트가 지정되어있게 하는 방법, rcParams를 설정파일에 직접 적어주는 방법\n",
        "\n",
        "print('설정파일 위치: ', mpl.matplotlib_fname())"
      ],
      "execution_count": 32,
      "outputs": [
        {
          "output_type": "stream",
          "text": [
            "설정파일 위치:  /usr/local/lib/python3.6/dist-packages/matplotlib/mpl-data/matplotlibrc\n"
          ],
          "name": "stdout"
        }
      ]
    },
    {
      "cell_type": "code",
      "metadata": {
        "id": "5CzdmWqqfuW8",
        "colab_type": "code",
        "colab": {
          "base_uri": "https://localhost:8080/",
          "height": 224
        },
        "outputId": "26bc2088-9658-4384-e8de-118b0ced2a36"
      },
      "source": [
        "import matplotlib.pyplot as plt\n",
        "import matplotlib as mpl\n",
        "import numpy as np\n",
        "\n",
        "fig, ax = plt.subplots()\n",
        "ax.plot(10*np.random.randn(100), 10*np.random.randn(100),'o')\n",
        "ax.set_title('숫자 분포도 보기')\n",
        "plt.show()\n"
      ],
      "execution_count": 36,
      "outputs": [
        {
          "output_type": "display_data",
          "data": {
            "image/png": "[encoded data removed]",
            "text/plain": [
              "<Figure size 1008x288 with 1 Axes>"
            ]
          },
          "metadata": {
            "tags": []
          }
        }
      ]
    },
    {
      "cell_type": "code",
      "metadata": {
        "id": "gbD42e1RgW2e",
        "colab_type": "code",
        "colab": {}
      },
      "source": [
        ""
      ],
      "execution_count": null,
      "outputs": []
    }
  ]
}